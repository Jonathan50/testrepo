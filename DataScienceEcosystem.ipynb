{
 "cells": [
  {
   "cell_type": "markdown",
   "id": "b87b8331-ac63-439d-bae0-9d18097a5825",
   "metadata": {},
   "source": [
    "# Data Science Tools and Ecosystem"
   ]
  },
  {
   "cell_type": "markdown",
   "id": "b1763a28-d8dd-4b5a-88a8-f272a897d71a",
   "metadata": {},
   "source": [
    "In this notebook, Data Science Tools and Ecosystems are summarized."
   ]
  },
  {
   "cell_type": "markdown",
   "id": "ba93ae62-d293-4a71-9b65-925af775f256",
   "metadata": {},
   "source": [
    "Some of the popular languages that Data Scientists use are: \n",
    "1. Python\n",
    "2. R\n",
    "3. SQL\n",
    "\r\n"
   ]
  },
  {
   "cell_type": "markdown",
   "id": "b3709949-a15d-4e2d-9e47-30a72ff322bb",
   "metadata": {},
   "source": [
    "Some of the common libraries used by Data Scientists include:\r",
    "1. TensorFlow\n",
    "2. NumPy\n",
    "3. Pandas\n"
   ]
  },
  {
   "cell_type": "markdown",
   "id": "d54525bd-b016-4d35-9def-c9daaaffe4de",
   "metadata": {},
   "source": [
    " |Data Science Tools|\n",
    " |------------------|\n",
    " |Jupyter Notebook  |\n",
    " |Visual Studio Cods|\n",
    " |Git               |"
   ]
  },
  {
   "cell_type": "code",
   "execution_count": 7,
   "id": "b13e4e77-9741-45f8-89c7-112c2c0981db",
   "metadata": {},
   "outputs": [
    {
     "data": {
      "text/html": [
       "<style>\n",
       "table {float:left}\n",
       "</style>\n"
      ],
      "text/plain": [
       "<IPython.core.display.HTML object>"
      ]
     },
     "metadata": {},
     "output_type": "display_data"
    }
   ],
   "source": [
    "%%html\n",
    "<style>\n",
    "table {float:left}\n",
    "</style>"
   ]
  },
  {
   "cell_type": "markdown",
   "id": "2f3dd829-c077-4b50-8f07-51c571923ab8",
   "metadata": {},
   "source": [
    "### Below are a few examples of evaluating arithmetic expressions in Python."
   ]
  },
  {
   "cell_type": "code",
   "execution_count": 5,
   "id": "a2fc4eca-fc3d-41b2-97cc-3ce50545a2b5",
   "metadata": {},
   "outputs": [
    {
     "data": {
      "text/plain": [
       "17"
      ]
     },
     "execution_count": 5,
     "metadata": {},
     "output_type": "execute_result"
    }
   ],
   "source": [
    "#This a simple arithmetic expression to multiply then add integers.\n",
    "(3*4)+5"
   ]
  },
  {
   "cell_type": "code",
   "execution_count": 8,
   "id": "5f63c12d-1c65-47fb-8de6-804a04dfd3a3",
   "metadata": {},
   "outputs": [
    {
     "data": {
      "text/plain": [
       "3.3333333333333335"
      ]
     },
     "execution_count": 8,
     "metadata": {},
     "output_type": "execute_result"
    }
   ],
   "source": [
    "#This will convert 200 minutes to hours by diving by 60.\n",
    "200/60\n"
   ]
  },
  {
   "cell_type": "markdown",
   "id": "11ec0d14-1540-4e24-9da0-ecee1d680ee3",
   "metadata": {},
   "source": [
    "Objectives:\n",
    "- Popular languages that Data Scientists utilize.\n",
    "- Commonly used libraries used by Data Scientists.\n",
    "- Popular Development Environment Open-Source Tools.\n",
    "- Arithmetic Expressions using Python."
   ]
  },
  {
   "cell_type": "markdown",
   "id": "e85e792e-baea-47c1-bdfa-b03a60ba25ff",
   "metadata": {},
   "source": [
    "## Author\n",
    "Jonathan Bernard"
   ]
  },
  {
   "cell_type": "code",
   "execution_count": null,
   "id": "2bae99fd-bcd6-4b4c-86c4-94c11d29f3ed",
   "metadata": {},
   "outputs": [],
   "source": []
  }
 ],
 "metadata": {
  "kernelspec": {
   "display_name": "Python 3 (ipykernel)",
   "language": "python",
   "name": "python3"
  },
  "language_info": {
   "codemirror_mode": {
    "name": "ipython",
    "version": 3
   },
   "file_extension": ".py",
   "mimetype": "text/x-python",
   "name": "python",
   "nbconvert_exporter": "python",
   "pygments_lexer": "ipython3",
   "version": "3.11.8"
  }
 },
 "nbformat": 4,
 "nbformat_minor": 5
}
